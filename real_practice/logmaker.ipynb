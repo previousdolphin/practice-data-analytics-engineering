{
 "cells": [
  {
   "cell_type": "code",
   "execution_count": 1,
   "id": "5ff6f93d-0e35-431b-ba66-fe69472ff87f",
   "metadata": {
    "editable": true,
    "slideshow": {
     "slide_type": ""
    },
    "tags": []
   },
   "outputs": [
    {
     "name": "stdout",
     "output_type": "stream",
     "text": [
      "Generating log data... this may take a moment.\n",
      "Shuffling log entries...\n",
      "Writing requests.log...\n",
      "Writing responses.log...\n",
      "\n",
      "✅ Log files 'requests.log' and 'responses.log' created successfully!\n",
      "Total lines in requests.log: 105000\n",
      "Total lines in responses.log: 105000\n"
     ]
    }
   ],
   "source": [
    "import uuid\n",
    "import random\n",
    "from datetime import datetime, timedelta\n",
    "\n",
    "# --- Configuration ---\n",
    "NUM_MATCHED_RECORDS = 100000\n",
    "NUM_ORPHANED_REQUESTS = 5000\n",
    "NUM_ORPHANED_RESPONSES = 5000\n",
    "START_TIME = datetime(2025, 9, 7, 12, 0, 0)\n",
    "\n",
    "# Possible HTTP status codes and their weights\n",
    "STATUS_CODES = [200, 201, 404, 500, 503]\n",
    "STATUS_WEIGHTS = [80, 5, 10, 4, 1]\n",
    "\n",
    "def generate_log_files():\n",
    "    \"\"\"Generates requests.log and responses.log with matched, orphaned, and shuffled data.\"\"\"\n",
    "    \n",
    "    print(\"Generating log data... this may take a moment.\")\n",
    "    \n",
    "    request_lines = []\n",
    "    response_lines = []\n",
    "\n",
    "    # --- 1. Generate Matched Records ---\n",
    "    for i in range(NUM_MATCHED_RECORDS):\n",
    "        req_id = f\"req-{uuid.uuid4()}\"\n",
    "        user_id = f\"user-{random.randint(1, 1000)}\"\n",
    "        \n",
    "        # Create slightly varying timestamps\n",
    "        start_time = START_TIME + timedelta(seconds=i, milliseconds=random.randint(0, 999))\n",
    "        duration_ms = random.randint(50, 2000)\n",
    "        end_time = start_time + timedelta(milliseconds=duration_ms)\n",
    "        \n",
    "        status_code = random.choices(STATUS_CODES, weights=STATUS_WEIGHTS, k=1)[0]\n",
    "\n",
    "        # Format timestamps to ISO 8601 with 'Z'\n",
    "        start_time_str = start_time.isoformat() + \"Z\"\n",
    "        end_time_str = end_time.isoformat() + \"Z\"\n",
    "\n",
    "        request_lines.append(f\"{start_time_str},{req_id},{user_id}\\n\")\n",
    "        response_lines.append(f\"{end_time_str},{req_id},{status_code}\\n\")\n",
    "\n",
    "    # --- 2. Generate Orphaned Requests (no matching response) ---\n",
    "    for i in range(NUM_ORPHANED_REQUESTS):\n",
    "        req_id = f\"req-orphan-{uuid.uuid4()}\"\n",
    "        user_id = f\"user-orphan-{random.randint(1, 500)}\"\n",
    "        start_time = START_TIME + timedelta(minutes=i)\n",
    "        start_time_str = start_time.isoformat() + \"Z\"\n",
    "        request_lines.append(f\"{start_time_str},{req_id},{user_id}\\n\")\n",
    "\n",
    "    # --- 3. Generate Orphaned Responses (no matching request) ---\n",
    "    for i in range(NUM_ORPHANED_RESPONSES):\n",
    "        req_id = f\"resp-orphan-{uuid.uuid4()}\"\n",
    "        status_code = random.choices(STATUS_CODES, weights=STATUS_WEIGHTS, k=1)[0]\n",
    "        end_time = START_TIME + timedelta(hours=i)\n",
    "        end_time_str = end_time.isoformat() + \"Z\"\n",
    "        response_lines.append(f\"{end_time_str},{req_id},{status_code}\\n\")\n",
    "        \n",
    "    # --- 4. Shuffle the lines to create the \"unordered\" challenge ---\n",
    "    print(\"Shuffling log entries...\")\n",
    "    random.shuffle(request_lines)\n",
    "    random.shuffle(response_lines)\n",
    "    \n",
    "    # --- 5. Write to files ---\n",
    "    print(\"Writing requests.log...\")\n",
    "    with open('requests.log', 'w') as f:\n",
    "        f.writelines(request_lines)\n",
    "        \n",
    "    print(\"Writing responses.log...\")\n",
    "    with open('responses.log', 'w') as f:\n",
    "        f.writelines(response_lines)\n",
    "        \n",
    "    print(\"\\n✅ Log files 'requests.log' and 'responses.log' created successfully!\")\n",
    "    print(f\"Total lines in requests.log: {len(request_lines)}\")\n",
    "    print(f\"Total lines in responses.log: {len(response_lines)}\")\n",
    "\n",
    "if __name__ == \"__main__\":\n",
    "    generate_log_files()"
   ]
  }
 ],
 "metadata": {
  "kernelspec": {
   "display_name": "Python 3 (ipykernel)",
   "language": "python",
   "name": "python3"
  },
  "language_info": {
   "codemirror_mode": {
    "name": "ipython",
    "version": 3
   },
   "file_extension": ".py",
   "mimetype": "text/x-python",
   "name": "python",
   "nbconvert_exporter": "python",
   "pygments_lexer": "ipython3",
   "version": "3.12.3"
  }
 },
 "nbformat": 4,
 "nbformat_minor": 5
}
