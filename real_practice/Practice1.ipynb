{
 "cells": [
  {
   "cell_type": "markdown",
   "id": "d8fc05bf-c471-4182-aa20-f5dc46105c91",
   "metadata": {
    "editable": true,
    "slideshow": {
     "slide_type": ""
    },
    "tags": []
   },
   "source": [
    "## Reddit Practice Problem: Surging Subreddits\n",
    "\n",
    "### The Scenario\n",
    "\n",
    "You're an Analytics Engineering Lead at Reddit. The \"Discovery\" team wants to identify subreddits that are experiencing a sudden surge in user engagement. They hypothesize that a rapid increase in the number of comments per post is a key indicator of a subreddit \"going viral\" or becoming a hot topic.\n",
    "\n",
    "Your task is to build a data pipeline that identifies the **top 10 subreddits with the highest week-over-week percentage growth in their average comments per post**.\n",
    "\n",
    "### Input DataFrames\n",
    "\n",
    "You are given two primary sources of data:\n",
    "\n",
    "1.  **`posts` DataFrame**: Contains information about each post submitted.\n",
    "\n",
    "      * `post_id` (string)\n",
    "      * `subreddit_id` (string)\n",
    "      * `created_utc` (timestamp)\n",
    "\n",
    "2.  **`comments` DataFrame**: A log of all comments made on posts.\n",
    "\n",
    "      * `comment_id` (string)\n",
    "      * `post_id` (string)\n",
    "      * `created_utc` (timestamp)\n",
    "\n",
    "### The Task\n",
    "\n",
    "Write a PySpark script that performs the following steps:\n",
    "\n",
    "1.  **Calculate Weekly Comment Counts:** For each post, determine how many comments it received. Then, aggregate this data to find the total number of comments and the total number of posts for each subreddit, for each week.\n",
    "      * A \"week\" can be defined using the `weekofyear` function.\n",
    "2.  **Calculate Average Comments Per Post:** Using the weekly aggregated data from Step 1, calculate the average number of comments per post for each subreddit for each week.\n",
    "3.  **Find Previous Week's Average:** For each subreddit and each week, you need to find the average comments per post from the *previous* week. This is the key step and will require a **window function** partitioned by subreddit and ordered by week.\n",
    "4.  **Calculate Week-over-Week Growth:** Calculate the percentage growth from the previous week's average to the current week's average. The formula is: `((current_avg - previous_avg) / previous_avg) * 100`.\n",
    "      * Handle cases where the previous week's average was zero to avoid division errors.\n",
    "5.  **Filter and Rank:** Filter for the most recent complete week in the dataset. Then, rank the subreddits by their week-over-week growth in descending order and return the top 10.\n",
    "\n",
    "### Expected Final Output\n",
    "\n",
    "A DataFrame with the following schema, showing the top 10 surging subreddits for the most recent week:\n",
    "\n",
    "  * `subreddit_id`\n",
    "  * `week`\n",
    "  * `avg_comments_per_post`\n",
    "  * `previous_week_avg_comments`\n",
    "  * `wow_growth_percentage`\n",
    "  * `rank`\n",
    "\n",
    "-----\n",
    "\n",
    "### Follow-up Questions for a Lead Role\n",
    "\n",
    "1.  **Optimization:** This job could be slow if the `comments` table is huge. How would you optimize the initial join between `posts` and `comments`? What if there's data skew in a few very popular posts? (Probes knowledge of partitioning, broadcasting, and salting).\n",
    "2.  **Data Modeling:** How would you productionize this logic? Would you create an intermediate, aggregated table? What would be the \"grain\" of that table (daily, weekly)? How would you handle late-arriving data?\n",
    "3.  **Edge Cases:** What are the flaws in this \"surge\" logic? What if a subreddit is new and has no \"previous week\" data? How should its growth be represented? What if a subreddit's activity is so low that going from 1 comment to 2 registers as 100% growth? How might you refine the logic to account for this?\n",
    "4.  **Definition of \"Week\":** We used `weekofyear`. What are the potential issues with this function, especially around the new year? (e.g., Week 52 vs. Week 1). What is a more robust way to define a \"week\"? (Probes deeper SQL/Spark function knowledge, like using `date_trunc`).\n",
    "\n",
    "-----\n",
    "\n",
    "### PySpark Solution Example\n",
    "\n",
    "```python\n",
    "from pyspark.sql import SparkSession, Window\n",
    "from pyspark.sql.functions import col, count, weekofyear, lag, when, lit, desc, rank\n",
    "\n",
    "# --- 1. Setup Spark Session and Create Dummy Data ---\n",
    "spark = SparkSession.builder.appName(\"RedditSurgeAnalysis\").getOrCreate()\n",
    "\n",
    "posts_data = [(\"p1\", \"sub1\", \"2025-08-20 10:00:00\"), (\"p2\", \"sub1\", \"2025-08-28 11:00:00\"),\n",
    "              (\"p3\", \"sub2\", \"2025-08-21 12:00:00\"), (\"p4\", \"sub2\", \"2025-08-29 13:00:00\"),\n",
    "              (\"p5\", \"sub3\", \"2025-08-22 14:00:00\"), (\"p6\", \"sub3\", \"2025-08-30 15:00:00\")]\n",
    "posts = spark.createDataFrame(posts_data, [\"post_id\", \"subreddit_id\", \"created_utc\"]) \\\n",
    "    .withColumn(\"created_utc\", col(\"created_utc\").cast(\"timestamp\"))\n",
    "\n",
    "comments_data = [(\"c1\", \"p1\"), (\"c2\", \"p1\"), (\"c3\", \"p2\"), # sub1\n",
    "                 (\"c4\", \"p3\"), (\"c5\", \"p4\"), (\"c6\", \"p4\"), (\"c7\", \"p4\"), # sub2\n",
    "                 (\"c8\", \"p5\"), (\"c9\", \"p6\"), (\"c10\", \"p6\")] # sub3\n",
    "comments = spark.createDataFrame(comments_data, [\"comment_id\", \"post_id\"])\n",
    "\n",
    "# --- 2. Calculate Weekly Comment Counts & Averages ---\n",
    "comments_per_post = comments.groupBy(\"post_id\").agg(count(\"comment_id\").alias(\"comment_count\"))\n",
    "\n",
    "post_comments = posts.join(comments_per_post, \"post_id\")\n",
    "\n",
    "weekly_agg = post_comments.groupBy(\"subreddit_id\", weekofyear(\"created_utc\").alias(\"week\")) \\\n",
    "    .agg(\n",
    "        count(\"post_id\").alias(\"num_posts\"),\n",
    "        sum(\"comment_count\").alias(\"num_comments\")\n",
    "    )\n",
    "\n",
    "weekly_avg = weekly_agg.withColumn(\"avg_comments_per_post\", col(\"num_comments\") / col(\"num_posts\"))\n",
    "\n",
    "# --- 3. Use Window Function to Get Previous Week's Data ---\n",
    "subreddit_window = Window.partitionBy(\"subreddit_id\").orderBy(\"week\")\n",
    "\n",
    "weekly_comparison = weekly_avg.withColumn(\n",
    "    \"previous_week_avg_comments\",\n",
    "    lag(col(\"avg_comments_per_post\"), 1).over(subreddit_window)\n",
    ")\n",
    "\n",
    "# --- 4. Calculate Week-over-Week Growth ---\n",
    "wow_growth = weekly_comparison.withColumn(\n",
    "    \"wow_growth_percentage\",\n",
    "    when(\n",
    "        (col(\"previous_week_avg_comments\").isNotNull()) & (col(\"previous_week_avg_comments\") != 0),\n",
    "        ((col(\"avg_comments_per_post\") - col(\"previous_week_avg_comments\")) / col(\"previous_week_avg_comments\")) * 100\n",
    "    ).otherwise(lit(None)) # Handle new subreddits or weeks with 0 comments\n",
    ").filter(col(\"wow_growth_percentage\").isNotNull())\n",
    "\n",
    "# --- 5. Filter for a Specific Week and Rank ---\n",
    "# For this example, we'll assume the most recent week is 35\n",
    "most_recent_week = 35 \n",
    "final_ranked = wow_growth.filter(col(\"week\") == most_recent_week) \\\n",
    "    .withColumn(\"rank\", rank().over(Window.orderBy(desc(\"wow_growth_percentage\")))) \\\n",
    "    .filter(col(\"rank\") <= 10)\n",
    "\n",
    "# --- Show Final Result ---\n",
    "print(\"Top 10 Surging Subreddits:\")\n",
    "final_ranked.show()\n",
    "\n",
    "# Expected output from dummy data:\n",
    "# +------------+----+---------+------------+---------------------+--------------------------+---------------------+----+\n",
    "# |subreddit_id|week|num_posts|num_comments|avg_comments_per_post|previous_week_avg_comments|wow_growth_percentage|rank|\n",
    "# +------------+----+---------+------------+---------------------+--------------------------+---------------------+----+\n",
    "# |        sub2|  35|        1|           3|                  3.0|                       1.0|                200.0|   1|\n",
    "# |        sub3|  35|        1|           2|                  2.0|                       1.0|                100.0|   2|\n",
    "# |        sub1|  35|        1|           1|                  1.0|                       2.0|                -50.0|   3|\n",
    "# +------------+----+---------+------------+---------------------+--------------------------+---------------------+----+\n",
    "\n",
    "```"
   ]
  },
  {
   "cell_type": "code",
   "execution_count": 2,
   "id": "d2ef628c-5675-491e-935e-f5c3c44b3f84",
   "metadata": {
    "editable": true,
    "slideshow": {
     "slide_type": ""
    },
    "tags": []
   },
   "outputs": [
    {
     "name": "stderr",
     "output_type": "stream",
     "text": [
      "WARNING: Using incubator modules: jdk.incubator.vector\n",
      "Using Spark's default log4j profile: org/apache/spark/log4j2-defaults.properties\n",
      "Setting default log level to \"WARN\".\n",
      "To adjust logging level use sc.setLogLevel(newLevel). For SparkR, use setLogLevel(newLevel).\n",
      "25/09/07 12:14:21 WARN NativeCodeLoader: Unable to load native-hadoop library for your platform... using builtin-java classes where applicable\n",
      "25/09/07 12:14:22 WARN Utils: Service 'SparkUI' could not bind on port 4040. Attempting port 4041.\n",
      "25/09/07 12:14:22 WARN Utils: Service 'SparkUI' could not bind on port 4041. Attempting port 4042.\n",
      "25/09/07 12:14:22 WARN Utils: Service 'SparkUI' could not bind on port 4042. Attempting port 4043.\n"
     ]
    }
   ],
   "source": [
    "from pyspark.sql import SparkSession, Window\n",
    "from pyspark.sql.functions import col, count, weekofyear, lag, when, lit, desc, rank\n",
    "\n",
    "# --- 1. Setup Spark Session and Create Dummy Data ---\n",
    "spark = SparkSession.builder.appName(\"RedditSurgeAnalysis\").getOrCreate()\n",
    "\n",
    "posts_data = [(\"p1\", \"sub1\", \"2025-08-20 10:00:00\"), (\"p2\", \"sub1\", \"2025-08-28 11:00:00\"),\n",
    "              (\"p3\", \"sub2\", \"2025-08-21 12:00:00\"), (\"p4\", \"sub2\", \"2025-08-29 13:00:00\"),\n",
    "              (\"p5\", \"sub3\", \"2025-08-22 14:00:00\"), (\"p6\", \"sub3\", \"2025-08-30 15:00:00\")]\n",
    "posts = spark.createDataFrame(posts_data, [\"post_id\", \"subreddit_id\", \"created_utc\"]) \\\n",
    "    .withColumn(\"created_utc\", col(\"created_utc\").cast(\"timestamp\"))\n",
    "\n",
    "comments_data = [(\"c1\", \"p1\", \"2025-08-30 15:01:00\"), (\"c2\", \"p1\", \"2025-08-30 15:02:00\"), (\"c3\", \"p2\", \"2025-08-30 15:03:00\"), # sub1\n",
    "                 (\"c4\", \"p3\", \"2025-08-30 15:04:00\"), (\"c5\", \"p4\", \"2025-08-30 15:05:00\"), (\"c6\", \"p4\", \"2025-08-30 15:06:00\"), (\"c7\", \"p4\", \"2025-08-30 15:07:00\"), # sub2\n",
    "                 (\"c8\", \"p5\", \"2025-08-30 15:08:00\"), (\"c9\", \"p6\", \"2025-08-30 15:09:00\"), (\"c10\", \"p6\", \"2025-08-30 15:11:00\")] # sub3\n",
    "comments = spark.createDataFrame(comments_data, [\"comment_id\", \"post_id\", \"created_utc\"]) \\\n",
    "    .withColumn(\"created_utc\", col(\"created_utc\").cast(\"timestamp\"))"
   ]
  },
  {
   "cell_type": "code",
   "execution_count": 4,
   "id": "2446db63-8023-4ca1-806b-2992243a631c",
   "metadata": {
    "editable": true,
    "slideshow": {
     "slide_type": ""
    },
    "tags": []
   },
   "outputs": [
    {
     "name": "stderr",
     "output_type": "stream",
     "text": [
      "[Stage 3:>                                                          (0 + 4) / 4]"
     ]
    },
    {
     "name": "stdout",
     "output_type": "stream",
     "text": [
      "+-------+------------+-------------------+-------------+\n",
      "|post_id|subreddit_id|        created_utc|comment_count|\n",
      "+-------+------------+-------------------+-------------+\n",
      "|     p1|        sub1|2025-08-20 10:00:00|            2|\n",
      "|     p2|        sub1|2025-08-28 11:00:00|            1|\n",
      "|     p3|        sub2|2025-08-21 12:00:00|            1|\n",
      "|     p4|        sub2|2025-08-29 13:00:00|            3|\n",
      "|     p5|        sub3|2025-08-22 14:00:00|            1|\n",
      "|     p6|        sub3|2025-08-30 15:00:00|            2|\n",
      "+-------+------------+-------------------+-------------+\n",
      "\n"
     ]
    },
    {
     "name": "stderr",
     "output_type": "stream",
     "text": [
      "                                                                                "
     ]
    }
   ],
   "source": [
    "comments_per_post = comments.groupBy(\"post_id\").agg(count(\"comment_id\").alias(\"comment_count\"))\n",
    "\n",
    "post_comments = posts.join(comments_per_post, \"post_id\")\n",
    "post_comments.show()"
   ]
  },
  {
   "cell_type": "code",
   "execution_count": 5,
   "id": "2f17f20f-abfb-431f-9985-e04ff7e20194",
   "metadata": {
    "editable": true,
    "slideshow": {
     "slide_type": ""
    },
    "tags": []
   },
   "outputs": [
    {
     "ename": "TypeError",
     "evalue": "unsupported operand type(s) for +: 'int' and 'str'",
     "output_type": "error",
     "traceback": [
      "\u001b[31m---------------------------------------------------------------------------\u001b[39m",
      "\u001b[31mTypeError\u001b[39m                                 Traceback (most recent call last)",
      "\u001b[36mCell\u001b[39m\u001b[36m \u001b[39m\u001b[32mIn[5]\u001b[39m\u001b[32m, line 4\u001b[39m\n\u001b[32m      1\u001b[39m weekly_agg = post_comments.groupBy(\u001b[33m\"\u001b[39m\u001b[33msubreddit_id\u001b[39m\u001b[33m\"\u001b[39m, weekofyear(\u001b[33m\"\u001b[39m\u001b[33mcreated_utc\u001b[39m\u001b[33m\"\u001b[39m).alias(\u001b[33m\"\u001b[39m\u001b[33mweek\u001b[39m\u001b[33m\"\u001b[39m)) \\\n\u001b[32m      2\u001b[39m     .agg(\n\u001b[32m      3\u001b[39m         count(\u001b[33m\"\u001b[39m\u001b[33mpost_id\u001b[39m\u001b[33m\"\u001b[39m).alias(\u001b[33m\"\u001b[39m\u001b[33mnum_posts\u001b[39m\u001b[33m\"\u001b[39m),\n\u001b[32m----> \u001b[39m\u001b[32m4\u001b[39m         \u001b[38;5;28;43msum\u001b[39;49m\u001b[43m(\u001b[49m\u001b[33;43m\"\u001b[39;49m\u001b[33;43mcomment_count\u001b[39;49m\u001b[33;43m\"\u001b[39;49m\u001b[43m)\u001b[49m.alias(\u001b[33m\"\u001b[39m\u001b[33mnum_comments\u001b[39m\u001b[33m\"\u001b[39m)\n\u001b[32m      5\u001b[39m     )\n\u001b[32m      7\u001b[39m weekly_avg = weekly_agg.withColumn(\u001b[33m\"\u001b[39m\u001b[33mavg_comments_per_post\u001b[39m\u001b[33m\"\u001b[39m, col(\u001b[33m\"\u001b[39m\u001b[33mnum_comments\u001b[39m\u001b[33m\"\u001b[39m) / col(\u001b[33m\"\u001b[39m\u001b[33mnum_posts\u001b[39m\u001b[33m\"\u001b[39m))\n",
      "\u001b[31mTypeError\u001b[39m: unsupported operand type(s) for +: 'int' and 'str'"
     ]
    }
   ],
   "source": [
    "weekly_agg = post_comments.groupBy(\"subreddit_id\", weekofyear(\"created_utc\").alias(\"week\")) \\\n",
    "    .agg(\n",
    "        count(\"post_id\").alias(\"num_posts\"),\n",
    "        sum(\"comment_count\").alias(\"num_comments\")\n",
    "    )\n",
    "\n",
    "weekly_avg = weekly_agg.withColumn(\"avg_comments_per_post\", col(\"num_comments\") / col(\"num_posts\"))\n"
   ]
  },
  {
   "cell_type": "code",
   "execution_count": null,
   "id": "f35ad25b-87ee-45f8-bdb9-4b4305d0ff2a",
   "metadata": {},
   "outputs": [],
   "source": [
    "\n",
    "# --- 3. Use Window Function to Get Previous Week's Data ---\n",
    "subreddit_window = Window.partitionBy(\"subreddit_id\").orderBy(\"week\")\n",
    "\n",
    "weekly_comparison = weekly_avg.withColumn(\n",
    "    \"previous_week_avg_comments\",\n",
    "    lag(col(\"avg_comments_per_post\"), 1).over(subreddit_window)\n",
    ")\n",
    "\n",
    "# --- 4. Calculate Week-over-Week Growth ---\n",
    "wow_growth = weekly_comparison.withColumn(\n",
    "    \"wow_growth_percentage\",\n",
    "    when(\n",
    "        (col(\"previous_week_avg_comments\").isNotNull()) & (col(\"previous_week_avg_comments\") != 0),\n",
    "        ((col(\"avg_comments_per_post\") - col(\"previous_week_avg_comments\")) / col(\"previous_week_avg_comments\")) * 100\n",
    "    ).otherwise(lit(None)) # Handle new subreddits or weeks with 0 comments\n",
    ").filter(col(\"wow_growth_percentage\").isNotNull())\n",
    "\n",
    "# --- 5. Filter for a Specific Week and Rank ---\n",
    "# For this example, we'll assume the most recent week is 35\n",
    "most_recent_week = 35 \n",
    "final_ranked = wow_growth.filter(col(\"week\") == most_recent_week) \\\n",
    "    .withColumn(\"rank\", rank().over(Window.orderBy(desc(\"wow_growth_percentage\")))) \\\n",
    "    .filter(col(\"rank\") <= 10)\n",
    "\n",
    "# --- Show Final Result ---\n",
    "print(\"Top 10 Surging Subreddits:\")\n",
    "final_ranked.show()"
   ]
  }
 ],
 "metadata": {
  "kernelspec": {
   "display_name": "Python 3 (ipykernel)",
   "language": "python",
   "name": "python3"
  },
  "language_info": {
   "codemirror_mode": {
    "name": "ipython",
    "version": 3
   },
   "file_extension": ".py",
   "mimetype": "text/x-python",
   "name": "python",
   "nbconvert_exporter": "python",
   "pygments_lexer": "ipython3",
   "version": "3.12.3"
  }
 },
 "nbformat": 4,
 "nbformat_minor": 5
}
